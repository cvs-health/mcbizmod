{
 "cells": [
  {
   "cell_type": "markdown",
   "metadata": {},
   "source": [
    "# Building business cases better -- using distributions \n"
   ]
  },
  {
   "cell_type": "markdown",
   "metadata": {},
   "source": [
    "Some basic imports. "
   ]
  },
  {
   "cell_type": "code",
   "execution_count": 1,
   "metadata": {},
   "outputs": [],
   "source": [
    "%load_ext autoreload\n",
    "%autoreload 2"
   ]
  },
  {
   "cell_type": "code",
   "execution_count": 2,
   "metadata": {},
   "outputs": [],
   "source": [
    "import numpy as np\n",
    "import seaborn as sns\n",
    "import matplotlib.pyplot as plt\n",
    "import scipy.stats as st\n",
    "from matplotlib.ticker import FuncFormatter\n",
    "import sys\n",
    "import pandas as pd\n",
    "\n",
    "sys.path.append(\"..\")\n",
    "from dataclasses import dataclass, asdict"
   ]
  },
  {
   "cell_type": "code",
   "execution_count": 3,
   "metadata": {},
   "outputs": [],
   "source": [
    "from mcbizmod.DistP import DistP\n",
    "from mcbizmod.MCBizMod import MCBizMod"
   ]
  },
  {
   "cell_type": "code",
   "execution_count": 4,
   "metadata": {},
   "outputs": [],
   "source": [
    "sns.set_theme()\n",
    "sns.set_context('paper')"
   ]
  },
  {
   "cell_type": "code",
   "execution_count": 5,
   "metadata": {},
   "outputs": [],
   "source": [
    "from matplotlib.ticker import FuncFormatter\n",
    "\n",
    "\n",
    "def millions(x, pos):\n",
    "    'The two args are the value and tick position'\n",
    "    return '$%1.1fM' % (x * 1e-6)\n",
    "\n",
    "\n",
    "formatter = FuncFormatter(millions)"
   ]
  },
  {
   "cell_type": "markdown",
   "metadata": {},
   "source": [
    "This is a simulation, so we need to instantiate a simulation 'run', which controls the length of the randomly generated arrays. "
   ]
  },
  {
   "cell_type": "markdown",
   "metadata": {},
   "source": [
    "## What is a distribution? \n",
    "\n",
    "When we use the term distribution in statistics, we usually mean a probability distribution.  The distribution is, literally, a statistical representation of the data. On a technical level, it's an representation of an array of data. "
   ]
  },
  {
   "cell_type": "markdown",
   "metadata": {},
   "source": [
    "## Why do we care about business cases and distributions? \n",
    "Oftentimes when people make a business cases, they make static or fixed assumptions about the behavior. While convenient, this is a bad idea. Here's where distributions come in. \n",
    "\n",
    "Ultimately, each parameter isn't static, it's a distribution of possibilities, for which we need to determine the fraction of times for which an event happens. \n",
    "\n",
    "We've built a basic dataclass constructor to track the assumptions made and make your business cases repeatable, inspectable, and (more) accurate. Or at least, wrong in a quantifiable way:). "
   ]
  },
  {
   "cell_type": "markdown",
   "metadata": {},
   "source": [
    "## What are some of the fundamental 'tenants' of using mcbizmod? \n",
    "\n",
    "1. Pull your population directly from the data whenever possible\n",
    "\n",
    "2. Where possible, _use the whole distribution_. \n",
    "    - Data is data. It's wild, but you benefit from using the whole distribution because IT'S data! \n",
    "    \n",
    "5. When in doubt, use lognormal distributions to estimate. \n",
    "    - most biologic phenomena follow a lognormal distribution (this came from a colleauge of mine [lognormal and bioscience](https://stat.ethz.ch/~stahel/lognormal/bioscience.pdf)). "
   ]
  },
  {
   "cell_type": "markdown",
   "metadata": {},
   "source": [
    "## Cool, so what do we do? \n",
    "\n",
    "The purpose of mcbizmod is to characterize the variables/parameters that you're using in your business case using distributions. Then, to re-create the business model and monte-carlo sample the business model at the range of possibilities."
   ]
  },
  {
   "cell_type": "markdown",
   "metadata": {},
   "source": [
    "### The pitch \n",
    "Let's assume that our business case involves a medical intervention for a common chronic medical condition like Congestive heart failure (CHF). CHF is a complex, progressive condition that affects the heart’s ability to effectively pump blood to the body. Numerous studies have found that comprehensive education programs can reduce the rates of CHF related re-admissions. We propose to deliver education material, inspired by the American Heart Association and the American College of Cardiology, to reduce admissions among members with CHF. These materials will focus on patient self-care and patient self-monitoring.\n",
    "\n",
    "Delivering educational materials on self-care and self-monitoring may reduce the rates of admissions with little to no increase in medical or pharmacy utilization."
   ]
  },
  {
   "cell_type": "markdown",
   "metadata": {},
   "source": [
    "### The Business Case\n",
    "*The universe*\n",
    "\n",
    "This pilot will target a population of members with CHF, who are at high risk of hospitalization over the next 12 months based on previous analyses. For this pilot, we select the top 30k members by risk of hospitalization.\n",
    "\n",
    "*Exclusions*\n",
    "\n",
    "Due to competing outreach related to preventing readmissions, we exclude members who have been hospitalized in the past 6 months. To eliminate the risk of sending materials that contradict care managers, we exclude members in care management programs, including the Healthy Heart VBID program."
   ]
  },
  {
   "cell_type": "markdown",
   "metadata": {},
   "source": [
    "### Assumptions for our simulation\n",
    "- 5k simulations\n",
    "- membership is lognormally distributed with a mean of 500, 200. \n",
    "- spend distribution is described as normally distributed with a mean of 6088 and a std of 2000. \n",
    "- Let's assume we need/have a model to identify members at risk. Let's assume that the models precision is uniformly distributed between ~0.30-0.40%.\n",
    "- Let's assume that the prevalence of CHF is lognormally distributed with a mean of 6% and a standard deviation of ~1%.\n",
    "- the prevalence of CHF admissions normally distributed with a mean of 20% and a standard deviation of ~2%.\n",
    "- the engagement estimate is normally distributed with a mean of ~20% and a standard deviation of ~5%.\n",
    "- the treatment effect is estimated to be normally distributed with a mean of 15% reduction in hospitalization rate and a standard deviation of 10%\n",
    "- Let's assume that the price is \\$2.5 per member outreached.\n",
    "- Let's assume 1:1 treatment-control ratio for pilot. "
   ]
  },
  {
   "cell_type": "markdown",
   "metadata": {},
   "source": [
    "#### A note on fitting distributions. \n",
    "\n",
    "you can use the distp class to fit a given amount of data. In accordance with (1) above, you should do this _a lot_. The example I show below does not use data (for speed, mostly). "
   ]
  },
  {
   "cell_type": "code",
   "execution_count": 6,
   "metadata": {},
   "outputs": [],
   "source": [
    "# assume this treatment effect data came from an experiment\n",
    "data_array = np.array([\n",
    "    0.1243272, 0.02841775, 0.02462303, 0.05596238, 0.02816799, 0.06737527,\n",
    "    0.08744445, 0.05503281, 0.06467202, 0.06707346, 0.12590284, 0.04279422,\n",
    "    0.06179317, 0.05264741, 0.00944362, 0.02500023, 0.15752293, 0.02699168,\n",
    "    0.04178847, 0.01391412, 0.04602457, 0.0596269, 0.06603306, 0.08619834,\n",
    "    0.02477823, 0.2167056, 0.04017278, 0.03583264, 0.09153694, 0.03640167,\n",
    "    0.02588049, 0.09159757, 0.07308884, 0.04771209, 0.09371187, 0.05632816,\n",
    "    0.00991528, 0.04369652, 0.03447077, 0.03877374, 0.10061553, 0.05931281,\n",
    "    0.07819679, 0.05195733, 0.11171881, 0.10992641, 0.0635759, 0.11434518,\n",
    "    0.05556813, 0.05661915\n",
    "])"
   ]
  },
  {
   "cell_type": "markdown",
   "metadata": {},
   "source": [
    "You can then fit a distribution. Make sure to give it a name, a lever, and specificy `distfunc` as `fitted`, pass a `size` or the default will be 5000, and then pass `samples` being the array. "
   ]
  },
  {
   "cell_type": "code",
   "execution_count": 7,
   "metadata": {},
   "outputs": [],
   "source": [
    "fitted_tre = DistP(name='treatment effect',\n",
    "                   lever='lever 1',\n",
    "                   distfunc='fitted',\n",
    "                   bounds=[0.0, 1],\n",
    "                   size=20,\n",
    "                   samples=data_array)"
   ]
  },
  {
   "cell_type": "markdown",
   "metadata": {},
   "source": [
    "#### Simulations:"
   ]
  },
  {
   "cell_type": "code",
   "execution_count": 8,
   "metadata": {},
   "outputs": [],
   "source": [
    "size = 5_000"
   ]
  },
  {
   "cell_type": "markdown",
   "metadata": {},
   "source": [
    "#### Membership:\n",
    "In this example, we're going to assume a log-normal distibution of plan sizes centered about 500 people. However, we're going to pass bounds to set the min and max plan size to constrain things. "
   ]
  },
  {
   "cell_type": "code",
   "execution_count": 9,
   "metadata": {
    "tags": []
   },
   "outputs": [],
   "source": [
    "membership = DistP(name='membership',\n",
    "                   lever='lever 1',\n",
    "                   distfunc=np.random.uniform,\n",
    "                   bounds=[0, 2e9],\n",
    "                   kwargs={\n",
    "                       'low': 2e6,\n",
    "                       'high': 2e6,\n",
    "                       'size': size\n",
    "                   })"
   ]
  },
  {
   "cell_type": "markdown",
   "metadata": {},
   "source": [
    "Let's take a look at what's embedded in the instantiated dataclass by checking out the `.__dict__` output.  "
   ]
  },
  {
   "cell_type": "code",
   "execution_count": 10,
   "metadata": {},
   "outputs": [
    {
     "data": {
      "text/plain": [
       "{'name': 'membership',\n",
       " 'lever': 'lever 1',\n",
       " 'segment': 'default segment',\n",
       " 'distfunc': <function RandomState.uniform>,\n",
       " 'bounds': [0, 2000000000.0],\n",
       " 'bound_method': 'drop_recursive',\n",
       " 'size_kwd': 'size',\n",
       " 'kwargs': {'low': 2000000.0, 'high': 2000000.0, 'size': 5000},\n",
       " 'size': 5000,\n",
       " 'samples': array([2000000., 2000000., 2000000., ..., 2000000., 2000000., 2000000.]),\n",
       " 'samples_mean': 2000000.0,\n",
       " 'samples_median': 2000000.0,\n",
       " 'samples_std': 0.0,\n",
       " 'samples_percentiles': [2000000.0,\n",
       "  2000000.0,\n",
       "  2000000.0,\n",
       "  2000000.0,\n",
       "  2000000.0],\n",
       " 'samples_len': 5000}"
      ]
     },
     "execution_count": 10,
     "metadata": {},
     "output_type": "execute_result"
    }
   ],
   "source": [
    "membership.__dict__"
   ]
  },
  {
   "cell_type": "markdown",
   "metadata": {},
   "source": [
    "There's a lot of things embedded in the dict. The most important attributes are `samples`, which contains an array of length `size` (in this case: 5000). These samples are randomly generated. \n",
    "\n",
    "There are also a few convenience functions in this class that that help us, like `displot` and `kdeplot`. "
   ]
  },
  {
   "cell_type": "markdown",
   "metadata": {},
   "source": [
    "A histogram (distribution plot-style). "
   ]
  },
  {
   "cell_type": "code",
   "execution_count": 11,
   "metadata": {},
   "outputs": [
    {
     "data": {
      "text/plain": [
       "<AxesSubplot:ylabel='Count'>"
      ]
     },
     "execution_count": 11,
     "metadata": {},
     "output_type": "execute_result"
    },
    {
     "data": {
      "image/png": "[encoded data removed]",
      "text/plain": [
       "<Figure size 360x144 with 1 Axes>"
      ]
     },
     "metadata": {},
     "output_type": "display_data"
    }
   ],
   "source": [
    "fig, ax = plt.subplots(figsize=(5, 2))\n",
    "membership.histplot(**{'ax': ax, 'bins': 100})"
   ]
  },
  {
   "cell_type": "markdown",
   "metadata": {},
   "source": [
    "#### Spend:\n",
    "spend distribution is described as normally distributed with a mean of 6088 and a std of 2000. In reality, it's much, much more broad. However, we can constrain the bounds to a realistic range (which is a bad idea).  \n"
   ]
  },
  {
   "cell_type": "code",
   "execution_count": 12,
   "metadata": {},
   "outputs": [],
   "source": [
    "spend = DistP(name='spend',\n",
    "              lever='lever 1',\n",
    "              distfunc=np.random.normal,\n",
    "              bounds=[0, 6e5],\n",
    "              kwargs={\n",
    "                  'loc': 250,\n",
    "                  'scale': 30,\n",
    "                  'size': size\n",
    "              })"
   ]
  },
  {
   "cell_type": "code",
   "execution_count": 13,
   "metadata": {},
   "outputs": [
    {
     "data": {
      "text/plain": [
       "<AxesSubplot:ylabel='Probability'>"
      ]
     },
     "execution_count": 13,
     "metadata": {},
     "output_type": "execute_result"
    },
    {
     "data": {
      "image/png": "[encoded data removed]",
      "text/plain": [
       "<Figure size 360x144 with 1 Axes>"
      ]
     },
     "metadata": {},
     "output_type": "display_data"
    }
   ],
   "source": [
    "fig, ax = plt.subplots(figsize=(5, 2))\n",
    "spend.histplot(\n",
    "    **{\n",
    "        'cumulative': False,\n",
    "        'stat': \"probability\",\n",
    "        \"fill\": False,\n",
    "        \"element\": 'step',\n",
    "        'ax': ax\n",
    "    })"
   ]
  },
  {
   "cell_type": "code",
   "execution_count": 14,
   "metadata": {},
   "outputs": [
    {
     "data": {
      "text/plain": [
       "<AxesSubplot:ylabel='Density'>"
      ]
     },
     "execution_count": 14,
     "metadata": {},
     "output_type": "execute_result"
    },
    {
     "data": {
      "image/png": "[encoded data removed]",
      "text/plain": [
       "<Figure size 360x144 with 1 Axes>"
      ]
     },
     "metadata": {},
     "output_type": "display_data"
    }
   ],
   "source": [
    "fig, ax = plt.subplots(figsize=(5, 2))\n",
    "spend.kdeplot(**{'cumulative': True, 'ax': ax, 'cut': 0})"
   ]
  },
  {
   "cell_type": "markdown",
   "metadata": {},
   "source": [
    "#### Prevalence:\n",
    "The number of members with the actual thing we want to intervene upon. In this case, the prevalence of CVD-admissions in the population. It's typically better to get this from data (but I'm lazy and don't have time). "
   ]
  },
  {
   "cell_type": "code",
   "execution_count": 15,
   "metadata": {},
   "outputs": [],
   "source": [
    "prevalence = DistP(name='prevalence',\n",
    "                   lever='lever 1',\n",
    "                   distfunc=np.random.lognormal,\n",
    "                   bounds=[0.002, 1],\n",
    "                   kwargs={\n",
    "                       'mean': np.log(0.02),\n",
    "                       'sigma': np.log(2),\n",
    "                       'size': size\n",
    "                   })"
   ]
  },
  {
   "cell_type": "code",
   "execution_count": 16,
   "metadata": {},
   "outputs": [
    {
     "data": {
      "text/plain": [
       "{'name': 'prevalence',\n",
       " 'lever': 'lever 1',\n",
       " 'segment': 'default segment',\n",
       " 'distfunc': <function RandomState.lognormal>,\n",
       " 'bounds': [0.002, 1],\n",
       " 'bound_method': 'drop_recursive',\n",
       " 'size_kwd': 'size',\n",
       " 'kwargs': {'mean': -3.912023005428146,\n",
       "  'sigma': 0.6931471805599453,\n",
       "  'size': 5002},\n",
       " 'size': 5000,\n",
       " 'samples': array([0.01489565, 0.02418749, 0.01935063, ..., 0.02214019, 0.02787451,\n",
       "        0.00678537]),\n",
       " 'samples_mean': 0.03,\n",
       " 'samples_median': 0.02,\n",
       " 'samples_std': 0.02,\n",
       " 'samples_percentiles': [0.002, 0.013, 0.021, 0.032, 0.359],\n",
       " 'samples_len': 5000}"
      ]
     },
     "execution_count": 16,
     "metadata": {},
     "output_type": "execute_result"
    }
   ],
   "source": [
    "prevalence.__dict__"
   ]
  },
  {
   "cell_type": "code",
   "execution_count": 17,
   "metadata": {},
   "outputs": [
    {
     "data": {
      "text/plain": [
       "<AxesSubplot:ylabel='Probability'>"
      ]
     },
     "execution_count": 17,
     "metadata": {},
     "output_type": "execute_result"
    },
    {
     "data": {
      "image/png": "[encoded data removed]",
      "text/plain": [
       "<Figure size 360x144 with 1 Axes>"
      ]
     },
     "metadata": {},
     "output_type": "display_data"
    }
   ],
   "source": [
    "fig, ax = plt.subplots(figsize=(5, 2))\n",
    "prevalence.histplot(\n",
    "    **{\n",
    "        'cumulative': False,\n",
    "        'stat': \"probability\",\n",
    "        \"fill\": False,\n",
    "        \"element\": 'step',\n",
    "        'ax': ax\n",
    "    })"
   ]
  },
  {
   "cell_type": "code",
   "execution_count": 18,
   "metadata": {},
   "outputs": [
    {
     "data": {
      "text/plain": [
       "<AxesSubplot:ylabel='Probability'>"
      ]
     },
     "execution_count": 18,
     "metadata": {},
     "output_type": "execute_result"
    },
    {
     "data": {
      "image/png": "[encoded data removed]",
      "text/plain": [
       "<Figure size 360x144 with 1 Axes>"
      ]
     },
     "metadata": {},
     "output_type": "display_data"
    }
   ],
   "source": [
    "fig, ax = plt.subplots(figsize=(5, 2))\n",
    "prevalence.histplot(\n",
    "    **{\n",
    "        'cumulative': True,\n",
    "        'stat': \"probability\",\n",
    "        \"fill\": False,\n",
    "        \"element\": 'step',\n",
    "        'ax': ax\n",
    "    })"
   ]
  },
  {
   "cell_type": "code",
   "execution_count": 19,
   "metadata": {},
   "outputs": [
    {
     "data": {
      "text/plain": [
       "<AxesSubplot:ylabel='Density'>"
      ]
     },
     "execution_count": 19,
     "metadata": {},
     "output_type": "execute_result"
    },
    {
     "data": {
      "image/png": "[encoded data removed]",
      "text/plain": [
       "<Figure size 360x144 with 1 Axes>"
      ]
     },
     "metadata": {},
     "output_type": "display_data"
    }
   ],
   "source": [
    "fig, ax = plt.subplots(figsize=(5, 2))\n",
    "prevalence.kdeplot(**{'cumulative': True, 'ax': ax, 'cut': 0})"
   ]
  },
  {
   "cell_type": "markdown",
   "metadata": {},
   "source": [
    "#### Engagement:"
   ]
  },
  {
   "cell_type": "code",
   "execution_count": 20,
   "metadata": {},
   "outputs": [],
   "source": [
    "engagement = DistP(name='engagement',\n",
    "                   lever='lever 1',\n",
    "                   distfunc=np.random.normal,\n",
    "                   bounds=[0.01, 1],\n",
    "                   kwargs={\n",
    "                       'loc': 0.05,\n",
    "                       'scale': 0.05,\n",
    "                       'size': size\n",
    "                   })"
   ]
  },
  {
   "cell_type": "code",
   "execution_count": 21,
   "metadata": {},
   "outputs": [
    {
     "data": {
      "text/plain": [
       "<AxesSubplot:ylabel='Probability'>"
      ]
     },
     "execution_count": 21,
     "metadata": {},
     "output_type": "execute_result"
    },
    {
     "data": {
      "image/png": "[encoded data removed]",
      "text/plain": [
       "<Figure size 360x144 with 1 Axes>"
      ]
     },
     "metadata": {},
     "output_type": "display_data"
    }
   ],
   "source": [
    "fig, ax = plt.subplots(figsize=(5, 2))\n",
    "engagement.histplot(\n",
    "    **{\n",
    "        'cumulative': True,\n",
    "        'stat': \"probability\",\n",
    "        \"fill\": False,\n",
    "        \"element\": 'step',\n",
    "        'ax': ax\n",
    "    })"
   ]
  },
  {
   "cell_type": "code",
   "execution_count": 22,
   "metadata": {},
   "outputs": [
    {
     "data": {
      "text/plain": [
       "<AxesSubplot:ylabel='Density'>"
      ]
     },
     "execution_count": 22,
     "metadata": {},
     "output_type": "execute_result"
    },
    {
     "data": {
      "image/png": "[encoded data removed]",
      "text/plain": [
       "<Figure size 360x144 with 1 Axes>"
      ]
     },
     "metadata": {},
     "output_type": "display_data"
    }
   ],
   "source": [
    "fig, ax = plt.subplots(figsize=(5, 2))\n",
    "engagement.kdeplot(**{'cumulative': True, 'ax': ax, 'cut': 0})"
   ]
  },
  {
   "cell_type": "markdown",
   "metadata": {},
   "source": [
    "#### Treatment effect:"
   ]
  },
  {
   "cell_type": "code",
   "execution_count": 23,
   "metadata": {},
   "outputs": [],
   "source": [
    "treatment_eff = DistP(name='treatment effect',\n",
    "                      lever='lever 1',\n",
    "                      distfunc=np.random.lognormal,\n",
    "                      bounds=[0.0, 1],\n",
    "                      kwargs={\n",
    "                          'mean': np.log(0.1),\n",
    "                          'sigma': np.log(2),\n",
    "                          'size': size\n",
    "                      })"
   ]
  },
  {
   "cell_type": "code",
   "execution_count": 24,
   "metadata": {},
   "outputs": [
    {
     "data": {
      "text/plain": [
       "<AxesSubplot:ylabel='Probability'>"
      ]
     },
     "execution_count": 24,
     "metadata": {},
     "output_type": "execute_result"
    },
    {
     "data": {
      "image/png": "[encoded data removed]",
      "text/plain": [
       "<Figure size 360x144 with 1 Axes>"
      ]
     },
     "metadata": {},
     "output_type": "display_data"
    }
   ],
   "source": [
    "fig, ax = plt.subplots(figsize=(5, 2))\n",
    "treatment_eff.histplot(\n",
    "    **{\n",
    "        'cumulative': True,\n",
    "        'stat': \"probability\",\n",
    "        \"fill\": False,\n",
    "        \"element\": 'step',\n",
    "        'ax': ax\n",
    "    })"
   ]
  },
  {
   "cell_type": "code",
   "execution_count": 25,
   "metadata": {},
   "outputs": [
    {
     "data": {
      "text/plain": [
       "<AxesSubplot:ylabel='Density'>"
      ]
     },
     "execution_count": 25,
     "metadata": {},
     "output_type": "execute_result"
    },
    {
     "data": {
      "image/png": "[encoded data removed]",
      "text/plain": [
       "<Figure size 360x144 with 1 Axes>"
      ]
     },
     "metadata": {},
     "output_type": "display_data"
    }
   ],
   "source": [
    "fig, ax = plt.subplots(figsize=(5, 2))\n",
    "treatment_eff.kdeplot(**{'cumulative': False, 'ax': ax, 'cut': 0})"
   ]
  },
  {
   "cell_type": "code",
   "execution_count": 26,
   "metadata": {},
   "outputs": [
    {
     "data": {
      "text/plain": [
       "0.12701070147132057"
      ]
     },
     "execution_count": 26,
     "metadata": {},
     "output_type": "execute_result"
    }
   ],
   "source": [
    "treatment_eff.samples.mean()"
   ]
  },
  {
   "cell_type": "markdown",
   "metadata": {},
   "source": [
    "#### Intervention Cost:"
   ]
  },
  {
   "cell_type": "code",
   "execution_count": 27,
   "metadata": {},
   "outputs": [],
   "source": [
    "cost = DistP(name='intervention cost',\n",
    "             lever='lever 1',\n",
    "             distfunc=np.random.uniform,\n",
    "             kwargs={\n",
    "                 'low': 2.5,\n",
    "                 'high': 2.5,\n",
    "                 'size': size\n",
    "             })"
   ]
  },
  {
   "cell_type": "code",
   "execution_count": 28,
   "metadata": {},
   "outputs": [
    {
     "data": {
      "text/plain": [
       "<AxesSubplot:ylabel='Count'>"
      ]
     },
     "execution_count": 28,
     "metadata": {},
     "output_type": "execute_result"
    },
    {
     "data": {
      "image/png": "[encoded data removed]",
      "text/plain": [
       "<Figure size 360x144 with 1 Axes>"
      ]
     },
     "metadata": {},
     "output_type": "display_data"
    }
   ],
   "source": [
    "fig, ax = plt.subplots(figsize=(5, 2))\n",
    "cost.histplot(**{'ax': ax, 'bins': 100})"
   ]
  },
  {
   "cell_type": "markdown",
   "metadata": {},
   "source": [
    "## Creating a business case value lever"
   ]
  },
  {
   "cell_type": "markdown",
   "metadata": {},
   "source": [
    "Instantiate a basic lever. Give it a name. "
   ]
  },
  {
   "cell_type": "code",
   "execution_count": 29,
   "metadata": {},
   "outputs": [],
   "source": [
    "MCbiz = MCBizMod('ngTDC')"
   ]
  },
  {
   "cell_type": "code",
   "execution_count": 30,
   "metadata": {},
   "outputs": [
    {
     "data": {
      "text/plain": [
       "DistP(name='membership', lever='lever 1', segment='default segment', distfunc=<built-in method uniform of numpy.random.mtrand.RandomState object at 0x1285deb40>, bounds=[0, 2000000000.0], bound_method='drop_recursive', size_kwd='size', kwargs={'low': 2000000.0, 'high': 2000000.0, 'size': 5000}, size=5000, samples=array([2000000., 2000000., 2000000., ..., 2000000., 2000000., 2000000.]), samples_mean=2000000.0, samples_median=2000000.0, samples_std=0.0, samples_percentiles=[2000000.0, 2000000.0, 2000000.0, 2000000.0, 2000000.0])"
      ]
     },
     "execution_count": 30,
     "metadata": {},
     "output_type": "execute_result"
    }
   ],
   "source": [
    "membership"
   ]
  },
  {
   "cell_type": "code",
   "execution_count": 31,
   "metadata": {},
   "outputs": [
    {
     "data": {
      "text/plain": [
       "MCBizMod(name='ngTDC')"
      ]
     },
     "execution_count": 31,
     "metadata": {},
     "output_type": "execute_result"
    }
   ],
   "source": [
    "MCbiz.add_dist_params(\n",
    "    [prevalence, membership, spend, treatment_eff, engagement, cost])"
   ]
  },
  {
   "cell_type": "markdown",
   "metadata": {},
   "source": [
    "Note that this name means that any distributions for which the value lever name doesn't match will not be rejected, but tracked! Let's try this out. "
   ]
  },
  {
   "cell_type": "code",
   "execution_count": 32,
   "metadata": {},
   "outputs": [],
   "source": [
    "cost2 = DistP(name='intervention cost',\n",
    "              lever='lever 2',\n",
    "              distfunc=np.random.uniform,\n",
    "              kwargs={\n",
    "                  'low': 2.5,\n",
    "                  'high': 2.5,\n",
    "                  'size': size\n",
    "              })"
   ]
  },
  {
   "cell_type": "code",
   "execution_count": 33,
   "metadata": {},
   "outputs": [
    {
     "data": {
      "text/plain": [
       "MCBizMod(name='ngTDC')"
      ]
     },
     "execution_count": 33,
     "metadata": {},
     "output_type": "execute_result"
    }
   ],
   "source": [
    "MCbiz.add_dist_params([cost2])"
   ]
  },
  {
   "cell_type": "markdown",
   "metadata": {},
   "source": [
    "See! Neat. "
   ]
  },
  {
   "cell_type": "markdown",
   "metadata": {},
   "source": [
    "### Creating a business case\n",
    "You can create any number of named entities using this method. However, for each value lever, there can be a distribution of possibilities. Please note that we distregard the realism of some of these cases, or any of the conditionality of the downstream cases upon selection. We assume that each of these are completely independant samples. \n",
    "\n",
    "So, let's go ahead and create a business case for 'mcs'. \n",
    "\n",
    "It's pretty easy. use the `._value_lever` method to pass along 3 things, the name of the distribution, the operator, and the name of the attribute you want to name it as e.g., 'mcs'. \n",
    "\n",
    "Note that `base` is a special operator that denotes the base distribution from which things start. It could be any distribution. However, typically it's the membership. "
   ]
  },
  {
   "cell_type": "code",
   "execution_count": 34,
   "metadata": {},
   "outputs": [
    {
     "data": {
      "text/plain": [
       "MCBizMod(name='ngTDC')"
      ]
     },
     "execution_count": 34,
     "metadata": {},
     "output_type": "execute_result"
    }
   ],
   "source": [
    "MCbiz.value_lever(dist_name='membership',\n",
    "                  operator='base',\n",
    "                  lever='lever 1',\n",
    "                  segment='default segment',\n",
    "                  label='mcs')\n",
    "\n",
    "MCbiz.value_lever('prevalence', '*', 'lever 1', 'default segment', 'mcs')\n",
    "MCbiz.value_lever('engagement', '*', 'lever 1', 'default segment', 'mcs')\n",
    "MCbiz.value_lever('treatment effect', '*', 'lever 1', 'default segment', 'mcs')\n",
    "MCbiz.value_lever('spend', '*', 'lever 1', 'default segment', 'mcs')"
   ]
  },
  {
   "cell_type": "markdown",
   "metadata": {},
   "source": [
    "Let's see what that did before driving on. "
   ]
  },
  {
   "cell_type": "markdown",
   "metadata": {},
   "source": [
    "Just like the distribution objects, the value lever has all the methods, including plotting. Let's take a look. "
   ]
  },
  {
   "cell_type": "code",
   "execution_count": 35,
   "metadata": {},
   "outputs": [
    {
     "data": {
      "text/plain": [
       "Text(0.5, 0, 'MCS ($)')"
      ]
     },
     "execution_count": 35,
     "metadata": {},
     "output_type": "execute_result"
    },
    {
     "data": {
      "image/png": "[encoded data removed]",
      "text/plain": [
       "<Figure size 360x144 with 1 Axes>"
      ]
     },
     "metadata": {},
     "output_type": "display_data"
    }
   ],
   "source": [
    "fig, ax = plt.subplots(figsize=(5, 2))\n",
    "MCbiz.bizcase.get('lever 1').get('default segment').get('mcs').histplot(**{\n",
    "    'cumulative': True,\n",
    "    'stat': \"probability\",\n",
    "    \"element\": 'step',\n",
    "    'ax': ax\n",
    "})\n",
    "ax.xaxis.set_major_formatter(formatter)\n",
    "ax.set_xlim(0, 1e6)\n",
    "ax.set_xlabel('MCS ($)')"
   ]
  },
  {
   "cell_type": "markdown",
   "metadata": {},
   "source": [
    "## More complex business cases using the bizmodel\n",
    "\n",
    "Let's say you already have a bunch of distributions and value levers. Let's quickly set this up. \n",
    "\n",
    "Let's say you have 2 value levers. \n",
    "1. predicting members at elevated risk for re-admission for intersection with an RPM device that will decrease their liklihood to admit. \n",
    "2. a site of care opportunity, where 5% of a given procedure with a known cost will be decrease conditional on nudging members to a new location for service (e.g., health hub). "
   ]
  },
  {
   "cell_type": "code",
   "execution_count": 36,
   "metadata": {},
   "outputs": [],
   "source": [
    "TransformCHF = MCBizMod('Transform CHF')"
   ]
  },
  {
   "cell_type": "markdown",
   "metadata": {},
   "source": [
    "### Value lever 1\n",
    "predicting members at elevated risk for re-admission for intersection with an RPM device that will decrease their liklihood to admit. "
   ]
  },
  {
   "cell_type": "code",
   "execution_count": 37,
   "metadata": {},
   "outputs": [],
   "source": [
    "size = 100_000"
   ]
  },
  {
   "cell_type": "code",
   "execution_count": 38,
   "metadata": {},
   "outputs": [],
   "source": [
    "membership1 = DistP(name='membership',\n",
    "                    lever='avoided admissions',\n",
    "                    distfunc=np.random.uniform,\n",
    "                    bounds=[0, 2e9],\n",
    "                    kwargs={\n",
    "                        'low': 2e6,\n",
    "                        'high': 2e6,\n",
    "                        'size': size\n",
    "                    })"
   ]
  },
  {
   "cell_type": "code",
   "execution_count": 39,
   "metadata": {},
   "outputs": [],
   "source": [
    "prevalence1 = DistP(name='prevalence',\n",
    "                    lever='avoided admissions',\n",
    "                    distfunc=np.random.lognormal,\n",
    "                    bounds=[0.002, 1],\n",
    "                    kwargs={\n",
    "                        'mean': np.log(0.02),\n",
    "                        'sigma': np.log(2),\n",
    "                        'size': size\n",
    "                    })"
   ]
  },
  {
   "cell_type": "code",
   "execution_count": 40,
   "metadata": {},
   "outputs": [],
   "source": [
    "treatment_eff1 = DistP(name='treatment effect',\n",
    "                       lever='avoided admissions',\n",
    "                       distfunc=np.random.lognormal,\n",
    "                       bounds=[0.0, 1],\n",
    "                       kwargs={\n",
    "                           'mean': np.log(0.1),\n",
    "                           'sigma': np.log(2),\n",
    "                           'size': size\n",
    "                       })"
   ]
  },
  {
   "cell_type": "code",
   "execution_count": 41,
   "metadata": {},
   "outputs": [],
   "source": [
    "spend1 = DistP(name='spend',\n",
    "               lever='avoided admissions',\n",
    "               distfunc=np.random.normal,\n",
    "               bounds=[0, 6e5],\n",
    "               kwargs={\n",
    "                   'loc': 5000,\n",
    "                   'scale': 2000,\n",
    "                   'size': size\n",
    "               })"
   ]
  },
  {
   "cell_type": "code",
   "execution_count": 42,
   "metadata": {},
   "outputs": [],
   "source": [
    "engagement1 = DistP(name='engagement',\n",
    "                    lever='avoided admissions',\n",
    "                    distfunc=np.random.normal,\n",
    "                    bounds=[0.01, 1],\n",
    "                    kwargs={\n",
    "                        'loc': 0.05,\n",
    "                        'scale': 0.05,\n",
    "                        'size': size\n",
    "                    })"
   ]
  },
  {
   "cell_type": "code",
   "execution_count": 43,
   "metadata": {},
   "outputs": [],
   "source": [
    "cost1 = DistP(name='intervention cost',\n",
    "              lever='avoided admissions',\n",
    "              distfunc=np.random.uniform,\n",
    "              kwargs={\n",
    "                  'low': 100,\n",
    "                  'high': 100,\n",
    "                  'size': size\n",
    "              })"
   ]
  },
  {
   "cell_type": "code",
   "execution_count": 44,
   "metadata": {},
   "outputs": [],
   "source": [
    "model_precision1 = DistP(name='model precision',\n",
    "                         lever='avoided admissions',\n",
    "                         distfunc=np.random.uniform,\n",
    "                         kwargs={\n",
    "                             'low': 0.4,\n",
    "                             'high': 0.6,\n",
    "                             'size': size\n",
    "                         })"
   ]
  },
  {
   "cell_type": "markdown",
   "metadata": {},
   "source": [
    "Now let's add all these distributions into mcbizmod and create the value lever's business case for mcs. "
   ]
  },
  {
   "cell_type": "code",
   "execution_count": 45,
   "metadata": {},
   "outputs": [
    {
     "data": {
      "text/plain": [
       "MCBizMod(name='Transform CHF')"
      ]
     },
     "execution_count": 45,
     "metadata": {},
     "output_type": "execute_result"
    }
   ],
   "source": [
    "TransformCHF.add_dist_params([\n",
    "    membership1, prevalence1, spend1, treatment_eff1, engagement1, cost1,\n",
    "    model_precision1\n",
    "])"
   ]
  },
  {
   "cell_type": "code",
   "execution_count": 46,
   "metadata": {},
   "outputs": [
    {
     "data": {
      "text/plain": [
       "MCBizMod(name='Transform CHF')"
      ]
     },
     "execution_count": 46,
     "metadata": {},
     "output_type": "execute_result"
    }
   ],
   "source": [
    "TransformCHF.value_lever('membership', 'base', 'avoided admissions',\n",
    "                         'default segment', 'mcs')\n",
    "TransformCHF.value_lever('prevalence', '*', 'avoided admissions',\n",
    "                         'default segment', 'mcs')\n",
    "TransformCHF.value_lever('model precision', '*', 'avoided admissions',\n",
    "                         'default segment', 'mcs')\n",
    "TransformCHF.value_lever('engagement', '*', 'avoided admissions',\n",
    "                         'default segment', 'mcs')\n",
    "TransformCHF.value_lever('treatment effect', '*', 'avoided admissions',\n",
    "                         'default segment', 'mcs')\n",
    "TransformCHF.value_lever('spend', '*', 'avoided admissions', 'default segment',\n",
    "                         'mcs')"
   ]
  },
  {
   "cell_type": "markdown",
   "metadata": {},
   "source": [
    "### Value lever 2\n",
    "a site of care opportunity, where 5% of a given procedure with a known cost will be decrease conditional on nudging members to a new location for service (e.g., health hub)."
   ]
  },
  {
   "cell_type": "code",
   "execution_count": 47,
   "metadata": {},
   "outputs": [],
   "source": [
    "membership2 = DistP(name='membership',\n",
    "                    lever='site of care play',\n",
    "                    distfunc=np.random.uniform,\n",
    "                    bounds=[0, 2e9],\n",
    "                    kwargs={\n",
    "                        'low': 2e6,\n",
    "                        'high': 2e6,\n",
    "                        'size': size\n",
    "                    })"
   ]
  },
  {
   "cell_type": "code",
   "execution_count": 48,
   "metadata": {
    "tags": []
   },
   "outputs": [],
   "source": [
    "prevalence2 = DistP(name='prevalence',\n",
    "                    lever='site of care play',\n",
    "                    distfunc=np.random.lognormal,\n",
    "                    bounds=[0.002, 1],\n",
    "                    kwargs={\n",
    "                        'mean': np.log(0.2),\n",
    "                        'sigma': np.log(2),\n",
    "                        'size': size\n",
    "                    })"
   ]
  },
  {
   "cell_type": "code",
   "execution_count": 49,
   "metadata": {},
   "outputs": [],
   "source": [
    "treatment_eff2 = DistP(name='treatment effect',\n",
    "                       lever='site of care play',\n",
    "                       distfunc=np.random.lognormal,\n",
    "                       bounds=[0.0, 1],\n",
    "                       kwargs={\n",
    "                           'mean': np.log(0.05),\n",
    "                           'sigma': np.log(2),\n",
    "                           'size': size\n",
    "                       })"
   ]
  },
  {
   "cell_type": "code",
   "execution_count": 50,
   "metadata": {},
   "outputs": [],
   "source": [
    "# Let's assume it's ~$50 cheaper to get something at the MC.\n",
    "spend2 = DistP(name='spend',\n",
    "               lever='site of care play',\n",
    "               distfunc=np.random.normal,\n",
    "               bounds=[0, 6e5],\n",
    "               kwargs={\n",
    "                   'loc': 50,\n",
    "                   'scale': 2000,\n",
    "                   'size': size\n",
    "               })"
   ]
  },
  {
   "cell_type": "code",
   "execution_count": 51,
   "metadata": {},
   "outputs": [],
   "source": [
    "engagement2 = DistP(name='engagement',\n",
    "                    lever='site of care play',\n",
    "                    distfunc=np.random.normal,\n",
    "                    bounds=[0.01, 1],\n",
    "                    kwargs={\n",
    "                        'loc': 0.1,\n",
    "                        'scale': 0.05,\n",
    "                        'size': size\n",
    "                    })"
   ]
  },
  {
   "cell_type": "code",
   "execution_count": 52,
   "metadata": {},
   "outputs": [],
   "source": [
    "cost2 = DistP(name='intervention cost',\n",
    "              lever='site of care play',\n",
    "              distfunc=np.random.uniform,\n",
    "              kwargs={\n",
    "                  'low': 1,\n",
    "                  'high': 1,\n",
    "                  'size': size\n",
    "              })"
   ]
  },
  {
   "cell_type": "markdown",
   "metadata": {},
   "source": [
    "Now let's add all these distributions into mcbizmod and create the value lever's business case for mcs. "
   ]
  },
  {
   "cell_type": "code",
   "execution_count": 53,
   "metadata": {},
   "outputs": [
    {
     "data": {
      "text/plain": [
       "MCBizMod(name='Transform CHF')"
      ]
     },
     "execution_count": 53,
     "metadata": {},
     "output_type": "execute_result"
    }
   ],
   "source": [
    "TransformCHF.add_dist_params(\n",
    "    [membership2, prevalence2, spend2, treatment_eff2, engagement2, cost2])"
   ]
  },
  {
   "cell_type": "code",
   "execution_count": 54,
   "metadata": {},
   "outputs": [
    {
     "data": {
      "text/plain": [
       "MCBizMod(name='Transform CHF')"
      ]
     },
     "execution_count": 54,
     "metadata": {},
     "output_type": "execute_result"
    }
   ],
   "source": [
    "TransformCHF.value_lever('membership', 'base', 'site of care play',\n",
    "                         'default segment', 'mcs')\n",
    "TransformCHF.value_lever('prevalence', '*', 'site of care play',\n",
    "                         'default segment', 'mcs')\n",
    "TransformCHF.value_lever('engagement', '*', 'site of care play',\n",
    "                         'default segment', 'mcs')\n",
    "TransformCHF.value_lever('treatment effect', '*', 'site of care play',\n",
    "                         'default segment', 'mcs')\n",
    "TransformCHF.value_lever('spend', '*', 'site of care play', 'default segment',\n",
    "                         'mcs')"
   ]
  },
  {
   "cell_type": "markdown",
   "metadata": {},
   "source": [
    "### Great! Now let's sum over the value levers"
   ]
  },
  {
   "cell_type": "code",
   "execution_count": 55,
   "metadata": {},
   "outputs": [
    {
     "data": {
      "text/plain": [
       "Text(0.5, 0, 'MCS ($)')"
      ]
     },
     "execution_count": 55,
     "metadata": {},
     "output_type": "execute_result"
    },
    {
     "data": {
      "image/png": "[encoded data removed]",
      "text/plain": [
       "<Figure size 360x144 with 1 Axes>"
      ]
     },
     "metadata": {},
     "output_type": "display_data"
    }
   ],
   "source": [
    "fig, ax = plt.subplots(figsize=(5, 2))\n",
    "TransformCHF.sum_over_levers_segments(['mcs'], ['default segment']).histplot(**{\n",
    "    'cumulative': True,\n",
    "    'stat': \"probability\",\n",
    "    \"element\": 'step',\n",
    "    'ax': ax\n",
    "})\n",
    "ax.set_xlim(0, 3e7)\n",
    "ax.set_xlabel('MCS from site of care play ($)')\n",
    "ax.xaxis.set_major_formatter(formatter)\n",
    "ax.set_xlabel('MCS ($)')"
   ]
  },
  {
   "cell_type": "markdown",
   "metadata": {},
   "source": [
    "### Cool, what if I wanted to spit out all the assumptions at once? "
   ]
  },
  {
   "cell_type": "markdown",
   "metadata": {},
   "source": [
    "Let's spit out the assumptions"
   ]
  },
  {
   "cell_type": "code",
   "execution_count": 58,
   "metadata": {},
   "outputs": [
    {
     "data": {
      "text/plain": [
       "dict_keys(['mcs'])"
      ]
     },
     "execution_count": 58,
     "metadata": {},
     "output_type": "execute_result"
    }
   ],
   "source": [
    "TransformCHF.bizcase['avoided admissions']['default segment'].keys()"
   ]
  },
  {
   "cell_type": "code",
   "execution_count": 60,
   "metadata": {},
   "outputs": [
    {
     "data": {
      "text/html": [
       "<div>\n",
       "<style scoped>\n",
       "    .dataframe tbody tr th:only-of-type {\n",
       "        vertical-align: middle;\n",
       "    }\n",
       "\n",
       "    .dataframe tbody tr th {\n",
       "        vertical-align: top;\n",
       "    }\n",
       "\n",
       "    .dataframe thead th {\n",
       "        text-align: right;\n",
       "    }\n",
       "</style>\n",
       "<table border=\"1\" class=\"dataframe\">\n",
       "  <thead>\n",
       "    <tr style=\"text-align: right;\">\n",
       "      <th></th>\n",
       "      <th>name</th>\n",
       "      <th>lever</th>\n",
       "      <th>segment</th>\n",
       "      <th>distfunc</th>\n",
       "      <th>bounds</th>\n",
       "      <th>size</th>\n",
       "      <th>samples_mean</th>\n",
       "      <th>samples_median</th>\n",
       "      <th>samples_std</th>\n",
       "      <th>samples_percentiles</th>\n",
       "    </tr>\n",
       "  </thead>\n",
       "  <tbody>\n",
       "    <tr>\n",
       "      <th>0</th>\n",
       "      <td>membership</td>\n",
       "      <td>avoided admissions</td>\n",
       "      <td>default segment</td>\n",
       "      <td>&lt;built-in method uniform of numpy.random.mtran...</td>\n",
       "      <td>[0, 2000000000.0]</td>\n",
       "      <td>5000</td>\n",
       "      <td>2000000.0</td>\n",
       "      <td>2000000.0</td>\n",
       "      <td>0.0</td>\n",
       "      <td>[2000000.0, 2000000.0, 2000000.0, 2000000.0, 2...</td>\n",
       "    </tr>\n",
       "    <tr>\n",
       "      <th>0</th>\n",
       "      <td>prevalence</td>\n",
       "      <td>avoided admissions</td>\n",
       "      <td>default segment</td>\n",
       "      <td>&lt;built-in method lognormal of numpy.random.mtr...</td>\n",
       "      <td>[0.002, 1]</td>\n",
       "      <td>5000</td>\n",
       "      <td>0.03</td>\n",
       "      <td>0.02</td>\n",
       "      <td>0.02</td>\n",
       "      <td>[0.002, 0.013, 0.02, 0.032, 0.444]</td>\n",
       "    </tr>\n",
       "    <tr>\n",
       "      <th>0</th>\n",
       "      <td>spend</td>\n",
       "      <td>avoided admissions</td>\n",
       "      <td>default segment</td>\n",
       "      <td>&lt;built-in method normal of numpy.random.mtrand...</td>\n",
       "      <td>[0, 600000.0]</td>\n",
       "      <td>5000</td>\n",
       "      <td>5044.71</td>\n",
       "      <td>5032.63</td>\n",
       "      <td>1954.58</td>\n",
       "      <td>[11.084, 3684.594, 5032.63, 6375.355, 12972.68]</td>\n",
       "    </tr>\n",
       "    <tr>\n",
       "      <th>0</th>\n",
       "      <td>treatment effect</td>\n",
       "      <td>avoided admissions</td>\n",
       "      <td>default segment</td>\n",
       "      <td>&lt;built-in method lognormal of numpy.random.mtr...</td>\n",
       "      <td>[0.0, 1]</td>\n",
       "      <td>5000</td>\n",
       "      <td>0.13</td>\n",
       "      <td>0.1</td>\n",
       "      <td>0.1</td>\n",
       "      <td>[0.006, 0.062, 0.1, 0.159, 0.99]</td>\n",
       "    </tr>\n",
       "    <tr>\n",
       "      <th>0</th>\n",
       "      <td>engagement</td>\n",
       "      <td>avoided admissions</td>\n",
       "      <td>default segment</td>\n",
       "      <td>&lt;built-in method normal of numpy.random.mtrand...</td>\n",
       "      <td>[0.01, 1]</td>\n",
       "      <td>5000</td>\n",
       "      <td>0.07</td>\n",
       "      <td>0.06</td>\n",
       "      <td>0.04</td>\n",
       "      <td>[0.01, 0.039, 0.063, 0.093, 0.251]</td>\n",
       "    </tr>\n",
       "    <tr>\n",
       "      <th>0</th>\n",
       "      <td>intervention cost</td>\n",
       "      <td>avoided admissions</td>\n",
       "      <td>default segment</td>\n",
       "      <td>&lt;built-in method uniform of numpy.random.mtran...</td>\n",
       "      <td>[0, 1000000.0]</td>\n",
       "      <td>5000</td>\n",
       "      <td>100.0</td>\n",
       "      <td>100.0</td>\n",
       "      <td>0.0</td>\n",
       "      <td>[100.0, 100.0, 100.0, 100.0, 100.0]</td>\n",
       "    </tr>\n",
       "    <tr>\n",
       "      <th>0</th>\n",
       "      <td>model precision</td>\n",
       "      <td>avoided admissions</td>\n",
       "      <td>default segment</td>\n",
       "      <td>&lt;built-in method uniform of numpy.random.mtran...</td>\n",
       "      <td>[0, 1000000.0]</td>\n",
       "      <td>5000</td>\n",
       "      <td>0.5</td>\n",
       "      <td>0.5</td>\n",
       "      <td>0.06</td>\n",
       "      <td>[0.4, 0.45, 0.5, 0.55, 0.6]</td>\n",
       "    </tr>\n",
       "    <tr>\n",
       "      <th>0</th>\n",
       "      <td>membership</td>\n",
       "      <td>site of care play</td>\n",
       "      <td>default segment</td>\n",
       "      <td>&lt;built-in method uniform of numpy.random.mtran...</td>\n",
       "      <td>[0, 2000000000.0]</td>\n",
       "      <td>5000</td>\n",
       "      <td>2000000.0</td>\n",
       "      <td>2000000.0</td>\n",
       "      <td>0.0</td>\n",
       "      <td>[2000000.0, 2000000.0, 2000000.0, 2000000.0, 2...</td>\n",
       "    </tr>\n",
       "    <tr>\n",
       "      <th>0</th>\n",
       "      <td>prevalence</td>\n",
       "      <td>site of care play</td>\n",
       "      <td>default segment</td>\n",
       "      <td>&lt;built-in method lognormal of numpy.random.mtr...</td>\n",
       "      <td>[0.002, 1]</td>\n",
       "      <td>5000</td>\n",
       "      <td>0.24</td>\n",
       "      <td>0.2</td>\n",
       "      <td>0.17</td>\n",
       "      <td>[0.01, 0.124, 0.198, 0.315, 1.0]</td>\n",
       "    </tr>\n",
       "    <tr>\n",
       "      <th>0</th>\n",
       "      <td>spend</td>\n",
       "      <td>site of care play</td>\n",
       "      <td>default segment</td>\n",
       "      <td>&lt;built-in method normal of numpy.random.mtrand...</td>\n",
       "      <td>[0, 600000.0]</td>\n",
       "      <td>5000</td>\n",
       "      <td>1617.06</td>\n",
       "      <td>1370.73</td>\n",
       "      <td>1220.08</td>\n",
       "      <td>[0.006, 649.137, 1370.73, 2328.402, 9673.206]</td>\n",
       "    </tr>\n",
       "    <tr>\n",
       "      <th>0</th>\n",
       "      <td>treatment effect</td>\n",
       "      <td>site of care play</td>\n",
       "      <td>default segment</td>\n",
       "      <td>&lt;built-in method lognormal of numpy.random.mtr...</td>\n",
       "      <td>[0.0, 1]</td>\n",
       "      <td>5000</td>\n",
       "      <td>0.06</td>\n",
       "      <td>0.05</td>\n",
       "      <td>0.05</td>\n",
       "      <td>[0.003, 0.031, 0.05, 0.08, 0.941]</td>\n",
       "    </tr>\n",
       "    <tr>\n",
       "      <th>0</th>\n",
       "      <td>engagement</td>\n",
       "      <td>site of care play</td>\n",
       "      <td>default segment</td>\n",
       "      <td>&lt;built-in method normal of numpy.random.mtrand...</td>\n",
       "      <td>[0.01, 1]</td>\n",
       "      <td>5000</td>\n",
       "      <td>0.1</td>\n",
       "      <td>0.1</td>\n",
       "      <td>0.05</td>\n",
       "      <td>[0.01, 0.07, 0.102, 0.135, 0.321]</td>\n",
       "    </tr>\n",
       "    <tr>\n",
       "      <th>0</th>\n",
       "      <td>intervention cost</td>\n",
       "      <td>site of care play</td>\n",
       "      <td>default segment</td>\n",
       "      <td>&lt;built-in method uniform of numpy.random.mtran...</td>\n",
       "      <td>[0, 1000000.0]</td>\n",
       "      <td>5000</td>\n",
       "      <td>1.0</td>\n",
       "      <td>1.0</td>\n",
       "      <td>0.0</td>\n",
       "      <td>[1.0, 1.0, 1.0, 1.0, 1.0]</td>\n",
       "    </tr>\n",
       "    <tr>\n",
       "      <th>0</th>\n",
       "      <td>mcs</td>\n",
       "      <td>avoided admissions</td>\n",
       "      <td>default segment</td>\n",
       "      <td>None</td>\n",
       "      <td>None</td>\n",
       "      <td>5000</td>\n",
       "      <td>1103381.34</td>\n",
       "      <td>541970.94</td>\n",
       "      <td>1891290.18</td>\n",
       "      <td>[170.506, 226120.135, 541970.944, 1233543.104,...</td>\n",
       "    </tr>\n",
       "    <tr>\n",
       "      <th>0</th>\n",
       "      <td>mcs</td>\n",
       "      <td>site of care play</td>\n",
       "      <td>default segment</td>\n",
       "      <td>None</td>\n",
       "      <td>None</td>\n",
       "      <td>5000</td>\n",
       "      <td>5231458.73</td>\n",
       "      <td>2205677.39</td>\n",
       "      <td>10062983.78</td>\n",
       "      <td>[26.483, 762896.48, 2205677.387, 5676882.315, ...</td>\n",
       "    </tr>\n",
       "  </tbody>\n",
       "</table>\n",
       "</div>"
      ],
      "text/plain": [
       "                name               lever          segment  \\\n",
       "0         membership  avoided admissions  default segment   \n",
       "0         prevalence  avoided admissions  default segment   \n",
       "0              spend  avoided admissions  default segment   \n",
       "0   treatment effect  avoided admissions  default segment   \n",
       "0         engagement  avoided admissions  default segment   \n",
       "0  intervention cost  avoided admissions  default segment   \n",
       "0    model precision  avoided admissions  default segment   \n",
       "0         membership   site of care play  default segment   \n",
       "0         prevalence   site of care play  default segment   \n",
       "0              spend   site of care play  default segment   \n",
       "0   treatment effect   site of care play  default segment   \n",
       "0         engagement   site of care play  default segment   \n",
       "0  intervention cost   site of care play  default segment   \n",
       "0                mcs  avoided admissions  default segment   \n",
       "0                mcs   site of care play  default segment   \n",
       "\n",
       "                                            distfunc             bounds  size  \\\n",
       "0  <built-in method uniform of numpy.random.mtran...  [0, 2000000000.0]  5000   \n",
       "0  <built-in method lognormal of numpy.random.mtr...         [0.002, 1]  5000   \n",
       "0  <built-in method normal of numpy.random.mtrand...      [0, 600000.0]  5000   \n",
       "0  <built-in method lognormal of numpy.random.mtr...           [0.0, 1]  5000   \n",
       "0  <built-in method normal of numpy.random.mtrand...          [0.01, 1]  5000   \n",
       "0  <built-in method uniform of numpy.random.mtran...     [0, 1000000.0]  5000   \n",
       "0  <built-in method uniform of numpy.random.mtran...     [0, 1000000.0]  5000   \n",
       "0  <built-in method uniform of numpy.random.mtran...  [0, 2000000000.0]  5000   \n",
       "0  <built-in method lognormal of numpy.random.mtr...         [0.002, 1]  5000   \n",
       "0  <built-in method normal of numpy.random.mtrand...      [0, 600000.0]  5000   \n",
       "0  <built-in method lognormal of numpy.random.mtr...           [0.0, 1]  5000   \n",
       "0  <built-in method normal of numpy.random.mtrand...          [0.01, 1]  5000   \n",
       "0  <built-in method uniform of numpy.random.mtran...     [0, 1000000.0]  5000   \n",
       "0                                               None               None  5000   \n",
       "0                                               None               None  5000   \n",
       "\n",
       "  samples_mean samples_median  samples_std  \\\n",
       "0    2000000.0      2000000.0          0.0   \n",
       "0         0.03           0.02         0.02   \n",
       "0      5044.71        5032.63      1954.58   \n",
       "0         0.13            0.1          0.1   \n",
       "0         0.07           0.06         0.04   \n",
       "0        100.0          100.0          0.0   \n",
       "0          0.5            0.5         0.06   \n",
       "0    2000000.0      2000000.0          0.0   \n",
       "0         0.24            0.2         0.17   \n",
       "0      1617.06        1370.73      1220.08   \n",
       "0         0.06           0.05         0.05   \n",
       "0          0.1            0.1         0.05   \n",
       "0          1.0            1.0          0.0   \n",
       "0   1103381.34      541970.94   1891290.18   \n",
       "0   5231458.73     2205677.39  10062983.78   \n",
       "\n",
       "                                 samples_percentiles  \n",
       "0  [2000000.0, 2000000.0, 2000000.0, 2000000.0, 2...  \n",
       "0                 [0.002, 0.013, 0.02, 0.032, 0.444]  \n",
       "0    [11.084, 3684.594, 5032.63, 6375.355, 12972.68]  \n",
       "0                   [0.006, 0.062, 0.1, 0.159, 0.99]  \n",
       "0                 [0.01, 0.039, 0.063, 0.093, 0.251]  \n",
       "0                [100.0, 100.0, 100.0, 100.0, 100.0]  \n",
       "0                        [0.4, 0.45, 0.5, 0.55, 0.6]  \n",
       "0  [2000000.0, 2000000.0, 2000000.0, 2000000.0, 2...  \n",
       "0                   [0.01, 0.124, 0.198, 0.315, 1.0]  \n",
       "0      [0.006, 649.137, 1370.73, 2328.402, 9673.206]  \n",
       "0                  [0.003, 0.031, 0.05, 0.08, 0.941]  \n",
       "0                  [0.01, 0.07, 0.102, 0.135, 0.321]  \n",
       "0                          [1.0, 1.0, 1.0, 1.0, 1.0]  \n",
       "0  [170.506, 226120.135, 541970.944, 1233543.104,...  \n",
       "0  [26.483, 762896.48, 2205677.387, 5676882.315, ...  "
      ]
     },
     "execution_count": 60,
     "metadata": {},
     "output_type": "execute_result"
    }
   ],
   "source": [
    "TransformCHF.return_assumptions(\n",
    "    drop_cols=['bound_method', 'size_kwd', 'samples', 'kwargs'])"
   ]
  }
 ],
 "metadata": {
  "kernelspec": {
   "display_name": "Python [default]",
   "language": "python",
   "name": "python3"
  },
  "language_info": {
   "codemirror_mode": {
    "name": "ipython",
    "version": 3
   },
   "file_extension": ".py",
   "mimetype": "text/x-python",
   "name": "python",
   "nbconvert_exporter": "python",
   "pygments_lexer": "ipython3",
   "version": "3.6.2"
  },
  "toc-autonumbering": true
 },
 "nbformat": 4,
 "nbformat_minor": 5
}
